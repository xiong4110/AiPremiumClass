{
 "cells": [
  {
   "cell_type": "markdown",
   "id": "cde29a17",
   "metadata": {},
   "source": [
    "# 手动实现one-hot编码"
   ]
  },
  {
   "cell_type": "code",
   "execution_count": null,
   "id": "812c58c1",
   "metadata": {},
   "outputs": [
    {
     "data": {
      "text/plain": [
       "array([0, 0, 0, 1, 0, 0, 0, 0, 0, 0, 0])"
      ]
     },
     "execution_count": 7,
     "metadata": {},
     "output_type": "execute_result"
    }
   ],
   "source": [
    "import numpy as np\n",
    "# 预料准备\n",
    "corpus = ['这 是 第一个 文档',\n",
    "    '这是 第二个 文档',\n",
    "    '这是 最后 一个 文档',\n",
    "    '现在 没有 文档 了']\n",
    "\n",
    "# 构建词袋\n",
    "word = []\n",
    "for corpu in corpus:\n",
    "    word.extend(corpu.split())\n",
    "    word = list(set(word))\n",
    "word_list = list(set(word))\n",
    "\n",
    "# 给词表编码\n",
    "word_dic = {word:index for index,word in enumerate(word_list)}\n",
    "\n",
    "# 定义one-hot编码函数\n",
    "def get_onehot(index):\n",
    "    # 初始化全零向量\n",
    "    onehot = np.zeros(len(word_list), dtype=int)\n",
    "    # 标记对应索引位置为1\n",
    "    onehot[index] = 1\n",
    "    # 返回one-hot向量\n",
    "    return onehot\n"
   ]
  },
  {
   "cell_type": "code",
   "execution_count": 18,
   "id": "b8b0bda9",
   "metadata": {},
   "outputs": [
    {
     "name": "stdout",
     "output_type": "stream",
     "text": [
      "[[0 1 0 0 0 0 0 0 0 0 0]\n",
      " [0 0 0 1 0 0 0 0 0 0 0]\n",
      " [0 0 0 0 0 0 0 0 0 0 1]\n",
      " [0 0 0 0 0 0 0 0 0 1 0]]\n"
     ]
    }
   ],
   "source": [
    "# 原始句子\n",
    "corpu = corpus[0]\n",
    "# 将句子转换为index\n",
    "index = [word_dic[word] for word in corpu.split()]\n",
    "# 计算one-hot编码\n",
    "one_hot = np.array([get_onehot(i) for i in index])\n",
    "print(one_hot)"
   ]
  },
  {
   "cell_type": "markdown",
   "id": "87d1a9ed",
   "metadata": {},
   "source": [
    "# Sklearn实现one-hot编码"
   ]
  },
  {
   "cell_type": "code",
   "execution_count": 16,
   "id": "7cd0ac35",
   "metadata": {},
   "outputs": [
    {
     "name": "stdout",
     "output_type": "stream",
     "text": [
      "[[0 0 0 0 0 0 0 0 0 1 0]\n",
      " [0 0 0 1 0 0 0 0 0 0 0]\n",
      " [0 0 0 0 0 0 0 1 0 0 0]\n",
      " [0 0 1 0 0 0 0 0 0 0 0]]\n",
      "['这' '是' '第一个' '文档']\n"
     ]
    }
   ],
   "source": [
    "from sklearn.preprocessing import OneHotEncoder,LabelBinarizer\n",
    "\n",
    "# 初始化编码器\n",
    "lb = LabelBinarizer()\n",
    "lb.fit(word_list)\n",
    "\n",
    "# 原始句子\n",
    "sentence = corpus[0].split()\n",
    "\n",
    "# 转换为 one-hot 编码\n",
    "one_hot_encoded = lb.transform(sentence)\n",
    "\n",
    "# 输出结果\n",
    "print(one_hot_encoded)\n",
    "print(lb.inverse_transform(one_hot_encoded))"
   ]
  }
 ],
 "metadata": {
  "kernelspec": {
   "display_name": "py312",
   "language": "python",
   "name": "python3"
  },
  "language_info": {
   "codemirror_mode": {
    "name": "ipython",
    "version": 3
   },
   "file_extension": ".py",
   "mimetype": "text/x-python",
   "name": "python",
   "nbconvert_exporter": "python",
   "pygments_lexer": "ipython3",
   "version": "3.12.9"
  }
 },
 "nbformat": 4,
 "nbformat_minor": 5
}
