{
 "cells": [
  {
   "cell_type": "code",
   "execution_count": 1,
   "id": "7b9aa613",
   "metadata": {},
   "outputs": [
    {
     "name": "stdout",
     "output_type": "stream",
     "text": [
      "Parameter containing:\n",
      "tensor([[-0.7618, -0.2621, -0.8623],\n",
      "        [ 0.4043, -1.4023,  1.1573],\n",
      "        [-0.2983,  0.3954,  0.7880],\n",
      "        [-1.6386,  1.9103,  0.7267],\n",
      "        [ 1.0415,  0.1941,  0.6415],\n",
      "        [-0.4898, -1.1911,  0.5955],\n",
      "        [-0.3925,  1.2494, -1.0075],\n",
      "        [ 1.4568,  0.7609, -0.2290],\n",
      "        [ 1.2358, -0.2441,  0.2693],\n",
      "        [-0.6857,  1.2298, -0.9312]], requires_grad=True)\n",
      "torch.Size([10, 3])\n"
     ]
    }
   ],
   "source": [
    "import torch \n",
    "import torch.nn as nn\n",
    "a = nn.Embedding(10, 3)\n",
    "print(a.weight)\n",
    "print(a.weight.shape)"
   ]
  },
  {
   "cell_type": "code",
   "execution_count": 3,
   "id": "4d240af0",
   "metadata": {},
   "outputs": [
    {
     "name": "stdout",
     "output_type": "stream",
     "text": [
      "tensor([0, 3, 5])\n",
      "tensor([[-0.7618, -0.2621, -0.8623],\n",
      "        [-1.6386,  1.9103,  0.7267],\n",
      "        [-0.4898, -1.1911,  0.5955]], grad_fn=<EmbeddingBackward0>)\n"
     ]
    }
   ],
   "source": [
    "inputs = torch.tensor([0,3,5])\n",
    "print(inputs)\n",
    "outputs = a(inputs)\n",
    "print(outputs)"
   ]
  }
 ],
 "metadata": {
  "kernelspec": {
   "display_name": "py312",
   "language": "python",
   "name": "python3"
  },
  "language_info": {
   "codemirror_mode": {
    "name": "ipython",
    "version": 3
   },
   "file_extension": ".py",
   "mimetype": "text/x-python",
   "name": "python",
   "nbconvert_exporter": "python",
   "pygments_lexer": "ipython3",
   "version": "3.12.9"
  }
 },
 "nbformat": 4,
 "nbformat_minor": 5
}
