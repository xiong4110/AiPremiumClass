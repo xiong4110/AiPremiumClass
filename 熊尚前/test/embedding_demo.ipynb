{
 "cells": [
  {
   "cell_type": "code",
   "execution_count": 1,
   "id": "7b9aa613",
   "metadata": {},
   "outputs": [
    {
     "name": "stdout",
     "output_type": "stream",
     "text": [
      "Parameter containing:\n",
      "tensor([[-0.7618, -0.2621, -0.8623],\n",
      "        [ 0.4043, -1.4023,  1.1573],\n",
      "        [-0.2983,  0.3954,  0.7880],\n",
      "        [-1.6386,  1.9103,  0.7267],\n",
      "        [ 1.0415,  0.1941,  0.6415],\n",
      "        [-0.4898, -1.1911,  0.5955],\n",
      "        [-0.3925,  1.2494, -1.0075],\n",
      "        [ 1.4568,  0.7609, -0.2290],\n",
      "        [ 1.2358, -0.2441,  0.2693],\n",
      "        [-0.6857,  1.2298, -0.9312]], requires_grad=True)\n",
      "torch.Size([10, 3])\n"
     ]
    }
   ],
   "source": [
    "import torch \n",
    "import torch.nn as nn\n",
    "a = nn.Embedding(10, 3)\n",
    "print(a.weight)\n",
    "print(a.weight.shape)"
   ]
  },
  {
   "cell_type": "code",
   "execution_count": 3,
   "id": "4d240af0",
   "metadata": {},
   "outputs": [
    {
     "name": "stdout",
     "output_type": "stream",
     "text": [
      "tensor([0, 3, 5])\n",
      "tensor([[-0.7618, -0.2621, -0.8623],\n",
      "        [-1.6386,  1.9103,  0.7267],\n",
      "        [-0.4898, -1.1911,  0.5955]], grad_fn=<EmbeddingBackward0>)\n"
     ]
    }
   ],
   "source": [
    "inputs = torch.tensor([0,3,5])\n",
    "print(inputs)\n",
    "outputs = a(inputs)\n",
    "print(outputs)"
   ]
  },
  {
   "cell_type": "code",
   "execution_count": null,
   "id": "31523e9d",
   "metadata": {},
   "outputs": [],
   "source": [
    "import torch \n",
    "import torch.nn as nn\n",
    "\n",
    "class PositionalEncoding(nn.Module):\n",
    "    '''\n",
    "    PositionalEncoding 类用于给输入序列添加位置编码。\n",
    "    位置编码确定输入序列中元素的位置信息，\n",
    "    具体实现基于三角函数，为不同位置和维度生成不同的编码值。\n",
    "    '''\n",
    "    def __init__(self, n,d):\n",
    "        super().__init__()\n",
    "        # 初始化位置编码矩阵，第一维用于批次处理\n",
    "        self.p = torch.zeros((1,n,d))\n",
    "        # 生成从0到n-1的位置索引，形状为 (n, 1)\n",
    "        i = torch.arange(n,dtype=torch.float32).reshape((-1,1))\n",
    "        # 生成维度索引，步长为2，\n",
    "        j = torch.arange(0,d,2,dtype=torch.float32)/d\n",
    "        \n",
    "        X = i/torch.pow(10000,j)\n",
    "        self.p[:,:,0::2] = torch.sin(X)\n",
    "        self.p[:,:,1::2] = torch.cos(X)\n",
    "    def forward(self,X):\n",
    "        return X+self.p"
   ]
  },
  {
   "cell_type": "code",
   "execution_count": 6,
   "id": "ae701ee9",
   "metadata": {},
   "outputs": [
    {
     "name": "stdout",
     "output_type": "stream",
     "text": [
      "1050\n"
     ]
    }
   ],
   "source": [
    "import torch \n",
    "import torch.nn as nn\n",
    "\n",
    "dropout = nn.Dropout(0.1)\n",
    "imputs = torch.randn(10000, dtype=torch.float32)\n",
    "outputs = dropout(imputs)\n",
    "print((outputs==0).sum().item())"
   ]
  }
 ],
 "metadata": {
  "kernelspec": {
   "display_name": "py312",
   "language": "python",
   "name": "python3"
  },
  "language_info": {
   "codemirror_mode": {
    "name": "ipython",
    "version": 3
   },
   "file_extension": ".py",
   "mimetype": "text/x-python",
   "name": "python",
   "nbconvert_exporter": "python",
   "pygments_lexer": "ipython3",
   "version": "3.12.9"
  }
 },
 "nbformat": 4,
 "nbformat_minor": 5
}
