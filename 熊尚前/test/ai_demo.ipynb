{
 "cells": [
  {
   "cell_type": "code",
   "execution_count": 2,
   "id": "59297ed5",
   "metadata": {},
   "outputs": [],
   "source": [
    "# 收集数据\n",
    "# 数据 FashionMnist数据集\n",
    "import torchvision\n",
    "from torchvision import transforms\n",
    "from torch.utils.data import DataLoader\n",
    "def load_data(batch_size=32,is_train=True,is_download=False):\n",
    "    trans = transforms.Compose([transforms.ToTensor()])\n",
    "    datasets = torchvision.datasets.FashionMNIST(root='./data',transform=trans, train=is_train,download=is_download)\n",
    "    dataloader = DataLoader(datasets,batch_size=batch_size,shuffle=True)\n",
    "    return dataloader\n"
   ]
  },
  {
   "cell_type": "code",
   "execution_count": 3,
   "id": "d35a33e8",
   "metadata": {},
   "outputs": [
    {
     "name": "stdout",
     "output_type": "stream",
     "text": [
      "torch.Size([10, 1, 28, 28]) torch.Size([10])\n"
     ]
    }
   ],
   "source": [
    "# 测试\n",
    "for image, label in load_data(10):\n",
    "    print(image.shape, label.shape)\n",
    "    break"
   ]
  },
  {
   "cell_type": "code",
   "execution_count": 4,
   "id": "6a62cc89",
   "metadata": {},
   "outputs": [],
   "source": [
    "# 创建AI\n",
    "import torch\n",
    "num_inputs = 28 * 28  # 输入图像的大小\n",
    "num_hiddens = 256  # 隐藏层的大小\n",
    "num_outputs = 10  # 输出层的大小\n",
    "def MLP(X):\n",
    "    global W1, B1, W2, B2, num_inputs\n",
    "    X = X.reshape((-1, num_inputs))  # 将输入展平为二维张量\n",
    "    H = Relu(X @ W1 + B1)  # 计算隐藏层的输出\n",
    "    Y = H @ W2 + B2  # 计算输出层的输出\n",
    "    return Y\n",
    "def Relu(X):\n",
    "    temp = torch.zeros_like(X)  # 创建一个与X形状相同的全零张量\n",
    "    return torch.max(X, temp)  # 返回X和全零张量的最大值，实现ReLU激活函数"
   ]
  },
  {
   "cell_type": "code",
   "execution_count": 6,
   "id": "f4766854",
   "metadata": {},
   "outputs": [],
   "source": [
    "# 权重赋初始值\n",
    "from torch import nn\n",
    "W1 = nn.Parameter(torch.randn(num_inputs, num_hiddens, requires_grad=True)*0.01)\n",
    "W2 = nn.Parameter(torch.randn(num_hiddens, num_outputs, requires_grad=True)*0.01)\n",
    "B1 = nn.Parameter(torch.zeros(num_hiddens, requires_grad=True))\n",
    "B2 = nn.Parameter(torch.zeros(num_outputs, requires_grad=True))"
   ]
  },
  {
   "cell_type": "code",
   "execution_count": 7,
   "id": "de34e055",
   "metadata": {},
   "outputs": [
    {
     "name": "stdout",
     "output_type": "stream",
     "text": [
      "y_hat:  tensor([[ 0.0018, -0.0083, -0.0067,  0.0016, -0.0098, -0.0018,  0.0047,  0.0002,\n",
      "         -0.0074,  0.0154]], grad_fn=<AddBackward0>)\n",
      "labels:tensor([5])\n"
     ]
    }
   ],
   "source": [
    "# test\n",
    "data_loader = load_data(1)\n",
    "for images, labels in data_loader:\n",
    "    y_hat = MLP(images)\n",
    "    print('y_hat: ', y_hat)\n",
    "    print(f'labels:{labels}')\n",
    "    break"
   ]
  },
  {
   "cell_type": "code",
   "execution_count": 9,
   "id": "b2e14d6e",
   "metadata": {},
   "outputs": [],
   "source": [
    "# 计算损失函数\n",
    "loss = nn.CrossEntropyLoss(reduction='none')"
   ]
  },
  {
   "cell_type": "code",
   "execution_count": null,
   "id": "a406bd46",
   "metadata": {},
   "outputs": [],
   "source": [
    "# 计算梯度\n"
   ]
  },
  {
   "cell_type": "code",
   "execution_count": 10,
   "id": "b4bf1c21",
   "metadata": {},
   "outputs": [],
   "source": [
    "# 更新梯度\n",
    "lr = 0.1\n",
    "updater = torch.optim.SGD(params=[W1,W2,B1,B2], lr=lr)\n",
    "updater.step()\n",
    "updater.zero_grad()"
   ]
  },
  {
   "cell_type": "code",
   "execution_count": 11,
   "id": "2b58fc25",
   "metadata": {},
   "outputs": [],
   "source": [
    "# 循环迭代\n",
    "def train(net, train_iter, loss, updater, num_epochs):\n",
    "    l_lisst = []\n",
    "    for epoch in range(num_epochs):\n",
    "        for X, y in train_iter:\n",
    "           y_pre = net(X)\n",
    "           l = loss(y_pre, y)\n",
    "           l.mean().backward()\n",
    "           updater.step()\n",
    "           updater.zero_grad()\n",
    "           l_lisst.append(l.mean().item())\n",
    "    return l_lisst"
   ]
  },
  {
   "cell_type": "code",
   "execution_count": 12,
   "id": "d94878c0",
   "metadata": {},
   "outputs": [],
   "source": [
    "net = MLP\n",
    "train_iter = load_data(32)\n",
    "num_epochs = 10\n",
    "l_list = train(net, train_iter, loss, updater, num_epochs)"
   ]
  },
  {
   "cell_type": "code",
   "execution_count": 13,
   "id": "68984fcd",
   "metadata": {},
   "outputs": [
    {
     "name": "stdout",
     "output_type": "stream",
     "text": [
      "0.3954111933708191\n"
     ]
    },
    {
     "data": {
      "image/png": "[encoded data removed]",
      "text/plain": [
       "<Figure size 640x480 with 1 Axes>"
      ]
     },
     "metadata": {},
     "output_type": "display_data"
    }
   ],
   "source": [
    "from matplotlib import pyplot as plt\n",
    "plt.plot(l_list)\n",
    "print(l_list[-1])"
   ]
  },
  {
   "cell_type": "code",
   "execution_count": 22,
   "id": "84b8b764",
   "metadata": {},
   "outputs": [
    {
     "name": "stdout",
     "output_type": "stream",
     "text": [
      "准确率： 0.8727\n"
     ]
    }
   ],
   "source": [
    "# 测试集\n",
    "def test(net, testloader):\n",
    "    count = 0\n",
    "    sum = 0\n",
    "    for x, y in testloader:\n",
    "        y_pre = net(x)\n",
    "        y_pre = torch.argmax(y_pre, axis=1)\n",
    "        for i in range(len(y_pre)):\n",
    "            count += 1\n",
    "            if y_pre[i] == y[i]:\n",
    "                sum += 1\n",
    "    print(\"准确率：\", sum / count)\n",
    "test_iter = load_data(32, is_train=False)\n",
    "test(MLP, test_iter)"
   ]
  }
 ],
 "metadata": {
  "kernelspec": {
   "display_name": "py312",
   "language": "python",
   "name": "python3"
  },
  "language_info": {
   "codemirror_mode": {
    "name": "ipython",
    "version": 3
   },
   "file_extension": ".py",
   "mimetype": "text/x-python",
   "name": "python",
   "nbconvert_exporter": "python",
   "pygments_lexer": "ipython3",
   "version": "3.12.9"
  }
 },
 "nbformat": 4,
 "nbformat_minor": 5
}
