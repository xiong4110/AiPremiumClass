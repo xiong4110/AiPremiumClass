{
 "cells": [
  {
   "cell_type": "code",
   "execution_count": null,
   "id": "59297ed5",
   "metadata": {},
   "outputs": [
    {
     "data": {
      "text/plain": [
       "<torch.utils.data.dataloader.DataLoader at 0x10aa131aea0>"
      ]
     },
     "execution_count": 6,
     "metadata": {},
     "output_type": "execute_result"
    }
   ],
   "source": [
    "# 收集数据\n",
    "# 数据 FashionMnist数据集\n",
    "import torchvision\n",
    "from torchvision import transforms\n",
    "from torch.utils.data import DataLoader\n",
    "def load_data(batch_size=32,is_train=True,is_download=False):\n",
    "    trans = transforms.Compose([transforms.ToTensor()])\n",
    "    datasets = torchvision.datasets.FashionMNIST(root='./data',transform=trans, train=is_train,download=is_download)\n",
    "    dataloader = DataLoader(datasets,batch_size=batch_size,shuffle=True)\n",
    "    return dataloader\n"
   ]
  },
  {
   "cell_type": "code",
   "execution_count": null,
   "id": "6a62cc89",
   "metadata": {},
   "outputs": [],
   "source": [
    "# 创建AI"
   ]
  },
  {
   "cell_type": "code",
   "execution_count": null,
   "id": "f4766854",
   "metadata": {},
   "outputs": [],
   "source": [
    "# 权重赋初始值"
   ]
  },
  {
   "cell_type": "code",
   "execution_count": null,
   "id": "b2e14d6e",
   "metadata": {},
   "outputs": [],
   "source": [
    "# 计算损失函数"
   ]
  },
  {
   "cell_type": "code",
   "execution_count": null,
   "id": "a406bd46",
   "metadata": {},
   "outputs": [],
   "source": [
    "# 计算梯度"
   ]
  },
  {
   "cell_type": "code",
   "execution_count": null,
   "id": "b4bf1c21",
   "metadata": {},
   "outputs": [],
   "source": [
    "# 更新梯度"
   ]
  },
  {
   "cell_type": "code",
   "execution_count": null,
   "id": "2b58fc25",
   "metadata": {},
   "outputs": [],
   "source": [
    "# 循环迭代"
   ]
  }
 ],
 "metadata": {
  "kernelspec": {
   "display_name": "py312",
   "language": "python",
   "name": "python3"
  },
  "language_info": {
   "codemirror_mode": {
    "name": "ipython",
    "version": 3
   },
   "file_extension": ".py",
   "mimetype": "text/x-python",
   "name": "python",
   "nbconvert_exporter": "python",
   "pygments_lexer": "ipython3",
   "version": "3.12.9"
  }
 },
 "nbformat": 4,
 "nbformat_minor": 5
}
