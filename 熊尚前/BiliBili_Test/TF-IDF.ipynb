{
 "cells": [
  {
   "cell_type": "markdown",
   "metadata": {},
   "source": [
    "TF-IDF（Term Frequency-Inverse Document Frequency）即词频 - 逆文档频率，它通过计算一个词语在文档中的重要性，结合了词语在文档中的频率和词语在整个语料库中的出现频率。\n",
    "\n",
    "**词频 （Term Frequency, TF)**: 指给定的词在文档中出现的频率。频率越高说明该词越重要。计算公式如下：\n",
    "$$ TF_{i,j} = \\frac{n_{i,j}}{\\sum_{k}n_{k,j}} $$\n",
    "其中，$n_{i,j}$ 表示词 $i$ 在文档 $j$ 中出现的次数，$\\sum_{k}n_{k,j}$ 表示文档 $j$ 中所有词的出现次数之和。  \n",
    "\n",
    "**逆文档频率（Inverse Document Frequency, IDF)**: 由总文档数目除以包含该词语的文档的数目，再将得到的商取对数得到。数值越大说明该词越不常见，该词特征性越强。计算公式如下：\n",
    "$$ IDF_i = \\log\\frac{N}{df_i} $$\n",
    "其中，$N$ 表示语料库中的文档总数，$df_i$ 表示包含词 $i$ 的文档数量。  \n",
    "\n",
    "**TF-IDF**: 词频和逆文档频率的乘积即为词的 TF-IDF 值。计算公式如下：\n",
    "$$ TF-IDF_{i,j} = TF_{i,j} \\times IDF_i $$\n",
    "TF-IDF 的主要优点是可以过滤掉常见的无意义词语，如“的”、“是”等。同时，TF-IDF 还可以用于文本分类、信息检索等任务。"
   ]
  },
  {
   "cell_type": "markdown",
   "metadata": {},
   "source": [
    "# 手动改实现"
   ]
  },
  {
   "cell_type": "code",
   "execution_count": null,
   "metadata": {},
   "outputs": [],
   "source": [
    "# 准备预料"
   ]
  }
 ],
 "metadata": {
  "kernelspec": {
   "display_name": "py312",
   "language": "python",
   "name": "python3"
  },
  "language_info": {
   "name": "python",
   "version": "3.12.9"
  }
 },
 "nbformat": 4,
 "nbformat_minor": 2
}
