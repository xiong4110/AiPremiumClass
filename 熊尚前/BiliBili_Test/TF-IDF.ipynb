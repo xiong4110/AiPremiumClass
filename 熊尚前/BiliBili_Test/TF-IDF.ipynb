{
 "cells": [
  {
   "cell_type": "markdown",
   "metadata": {},
   "source": [
    "TF-IDF（Term Frequency-Inverse Document Frequency）即词频 - 逆文档频率，它通过计算一个词语在文档中的重要性，结合了词语在文档中的频率和词语在整个语料库中的出现频率。\n",
    "\n",
    "**词频 （Term Frequency, TF)**: 指给定的词在文档中出现的频率。频率越高说明该词越重要。计算公式如下：\n",
    "$$ TF_{i,j} = \\frac{n_{i,j}}{\\sum_{k}n_{k,j}} $$\n",
    "其中，$n_{i,j}$ 表示词 $i$ 在文档 $j$ 中出现的次数，$\\sum_{k}n_{k,j}$ 表示文档 $j$ 中所有词的出现次数之和。  \n",
    "\n",
    "**逆文档频率（Inverse Document Frequency, IDF)**: 由总文档数目除以包含该词语的文档的数目，再将得到的商取对数得到。数值越大说明该词越不常见，该词特征性越强。计算公式如下：\n",
    "$$ IDF_i = \\log\\frac{N}{df_i} $$\n",
    "其中，$N$ 表示语料库中的文档总数，$df_i$ 表示包含词 $i$ 的文档数量。  \n",
    "\n",
    "**TF-IDF**: 词频和逆文档频率的乘积即为词的 TF-IDF 值。计算公式如下：\n",
    "$$ TF-IDF_{i,j} = TF_{i,j} \\times IDF_i $$\n",
    "TF-IDF 的主要优点是可以过滤掉常见的无意义词语，如“的”、“是”等。同时，TF-IDF 还可以用于文本分类、信息检索等任务。"
   ]
  },
  {
   "cell_type": "markdown",
   "metadata": {},
   "source": [
    "# 手动实现"
   ]
  },
  {
   "cell_type": "code",
   "execution_count": 18,
   "metadata": {},
   "outputs": [
    {
     "name": "stdout",
     "output_type": "stream",
     "text": [
      "第1个文档的TF-IDF:\n",
      "{'这': 0.34657359027997264, '是': 0.34657359027997264, '第一个': 0.34657359027997264, '文档': 0.0}\n",
      "第2个文档的TF-IDF:\n",
      "{'这是': 0.23104906018664842, '第二个': 0.46209812037329684, '文档': 0.0}\n",
      "第3个文档的TF-IDF:\n",
      "{'这是': 0.17328679513998632, '最后': 0.34657359027997264, '一个': 0.34657359027997264, '文档': 0.0}\n",
      "第4个文档的TF-IDF:\n",
      "{'没有': 0.23104906018664842, '文档': 0.0, '了': 0.46209812037329684, '么': 0.23104906018664842}\n"
     ]
    }
   ],
   "source": [
    "# 准备预料库\n",
    "corpus = [\n",
    "    '这 是 第一个 文档',\n",
    "    '这是 第二个 文档',\n",
    "    '这是 最后 一个 文档',\n",
    "    '没有 文档 了 文档 么 了'\n",
    "]\n",
    "\n",
    "# 词袋统计\n",
    "words_list = []\n",
    "for words in corpus:\n",
    "    words_list.append(words.split()) # 每个文档的词袋\n",
    "# print(words_list)\n",
    "# [['这', '是', '第一个', '文档'], ['这是', '第二个', '文档'], ['这是', '最后', '一个', '文档'], ['没有', '文档', '了', '文档', '么', '了']]\n",
    "\n",
    "# 词频统计\n",
    "from collections import Counter\n",
    "word_count = []\n",
    "for i in range(len(words_list)):\n",
    "    word_count.append(Counter(words_list[i])) # 每个文档的词频\n",
    "\n",
    "# print(word_count) \n",
    "# [Counter({'这': 1, '是': 1, '第一个': 1, '文档': 1}), Counter({'这是': 1, '第二个': 1, '文档': 1}), Counter({'这是': 1, '最后': 1, '一个': 1, '文档': 1}), Counter({'文档': 2, '了': 2, '没有': 1, '么': 1})]\n",
    "\n",
    "import math\n",
    "# 计算TF\n",
    "def TF(word, word_count):\n",
    "    return word_count[word] / sum(word_count.values()) # 词在当前文档中出现的次数\n",
    "\n",
    "# 计算IDF\n",
    "def IDF(word, word_count_list):\n",
    "    return math.log(len(word_count_list) / sum([1 for count in word_count_list if word in count]))\n",
    "\n",
    "# 计算TF-IDF\n",
    "def TF_IDF(word, word_count, word_count_list):\n",
    "    \"\"\"\n",
    "    word: 词语\n",
    "    word_count: 词语在当前文档中的词频\n",
    "    word_count_list: 词语在所有文档中的词频\n",
    "    \"\"\"\n",
    "    return TF(word, word_count) * IDF(word, word_count_list)\n",
    "\n",
    "# 测试\n",
    "# 计算每个文档的TF-IDF\n",
    "for i in range(len(corpus)):\n",
    "    print('第{}个文档的TF-IDF:'.format(i+1))\n",
    "    score = {word: TF_IDF(word, word_count[i], word_count) for word in corpus[i].split() }\n",
    "    print(score)"
   ]
  }
 ],
 "metadata": {
  "kernelspec": {
   "display_name": "py312",
   "language": "python",
   "name": "python3"
  },
  "language_info": {
   "codemirror_mode": {
    "name": "ipython",
    "version": 3
   },
   "file_extension": ".py",
   "mimetype": "text/x-python",
   "name": "python",
   "nbconvert_exporter": "python",
   "pygments_lexer": "ipython3",
   "version": "3.12.9"
  }
 },
 "nbformat": 4,
 "nbformat_minor": 2
}
