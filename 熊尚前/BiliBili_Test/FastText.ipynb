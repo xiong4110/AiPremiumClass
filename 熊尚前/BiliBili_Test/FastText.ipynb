{
 "cells": [
  {
   "cell_type": "code",
   "execution_count": 6,
   "metadata": {},
   "outputs": [
    {
     "ename": "ValueError",
     "evalue": "Empty vocabulary. Try a smaller -minCount value.",
     "output_type": "error",
     "traceback": [
      "\u001b[1;31m---------------------------------------------------------------------------\u001b[0m",
      "\u001b[1;31mValueError\u001b[0m                                Traceback (most recent call last)",
      "Cell \u001b[1;32mIn[6], line 14\u001b[0m\n\u001b[0;32m     11\u001b[0m train_data \u001b[38;5;241m=\u001b[39m \u001b[38;5;124m\"\u001b[39m\u001b[38;5;124mtrain.txt\u001b[39m\u001b[38;5;124m\"\u001b[39m\n\u001b[0;32m     13\u001b[0m \u001b[38;5;66;03m# 训练词向量模型\u001b[39;00m\n\u001b[1;32m---> 14\u001b[0m model \u001b[38;5;241m=\u001b[39m fasttext\u001b[38;5;241m.\u001b[39mtrain_unsupervised(train_data, model\u001b[38;5;241m=\u001b[39m\u001b[38;5;124m'\u001b[39m\u001b[38;5;124mskipgram\u001b[39m\u001b[38;5;124m'\u001b[39m)  \u001b[38;5;66;03m# 可以选择 'cbow' 或 'skipgram' 模型\u001b[39;00m\n\u001b[0;32m     15\u001b[0m \u001b[38;5;66;03m# 获取单词向量\u001b[39;00m\n\u001b[0;32m     16\u001b[0m vector \u001b[38;5;241m=\u001b[39m model\u001b[38;5;241m.\u001b[39mget_word_vector(\u001b[38;5;124m'\u001b[39m\u001b[38;5;124mapple\u001b[39m\u001b[38;5;124m'\u001b[39m) \n",
      "File \u001b[1;32mc:\\Users\\xiong\\.conda\\envs\\py312\\Lib\\site-packages\\fasttext\\FastText.py:554\u001b[0m, in \u001b[0;36mtrain_unsupervised\u001b[1;34m(*kargs, **kwargs)\u001b[0m\n\u001b[0;32m    552\u001b[0m a \u001b[38;5;241m=\u001b[39m _build_args(args, manually_set_args)\n\u001b[0;32m    553\u001b[0m ft \u001b[38;5;241m=\u001b[39m _FastText(args\u001b[38;5;241m=\u001b[39ma)\n\u001b[1;32m--> 554\u001b[0m fasttext\u001b[38;5;241m.\u001b[39mtrain(ft\u001b[38;5;241m.\u001b[39mf, a)\n\u001b[0;32m    555\u001b[0m ft\u001b[38;5;241m.\u001b[39mset_args(ft\u001b[38;5;241m.\u001b[39mf\u001b[38;5;241m.\u001b[39mgetArgs())\n\u001b[0;32m    556\u001b[0m \u001b[38;5;28;01mreturn\u001b[39;00m ft\n",
      "\u001b[1;31mValueError\u001b[0m: Empty vocabulary. Try a smaller -minCount value."
     ]
    }
   ],
   "source": [
    "import fasttext\n",
    "\n",
    "file_path = 'train.txt'\n",
    "with open(file_path, 'w', encoding='utf-8') as file:\n",
    "    file.write(\"apple banana orange\")\n",
    "    file.write(\"banana mango grape\")\n",
    "    file.write(\"car bus bicycle\")\n",
    "    file.write(\"dog cat bird\")\n",
    "    file.write(\"red green blue yellow\")\n",
    "# 准备训练数据，每行一个句子\n",
    "train_data = \"train.txt\"\n",
    "\n",
    "# 训练词向量模型\n",
    "model = fasttext.train_unsupervised(train_data, model='skipgram')  # 可以选择 'cbow' 或 'skipgram' 模型\n",
    "# 获取单词向量\n",
    "vector = model.get_word_vector('apple') \n",
    "print(vector)  # 输出单词 'apple' 的向量表示"
   ]
  }
 ],
 "metadata": {
  "kernelspec": {
   "display_name": "py312",
   "language": "python",
   "name": "python3"
  },
  "language_info": {
   "codemirror_mode": {
    "name": "ipython",
    "version": 3
   },
   "file_extension": ".py",
   "mimetype": "text/x-python",
   "name": "python",
   "nbconvert_exporter": "python",
   "pygments_lexer": "ipython3",
   "version": "3.12.9"
  }
 },
 "nbformat": 4,
 "nbformat_minor": 2
}
