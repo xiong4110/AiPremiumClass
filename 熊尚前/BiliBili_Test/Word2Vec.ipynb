{
 "cells": [
  {
   "cell_type": "code",
   "execution_count": 2,
   "metadata": {},
   "outputs": [
    {
     "name": "stdout",
     "output_type": "stream",
     "text": [
      "'apple'的词向量形状： (100,)\n",
      "相似单词： [('orange', 0.06797593086957932), ('banana', -0.013514931313693523)]\n"
     ]
    }
   ],
   "source": [
    "from gensim.models import Word2Vec\n",
    "import numpy as np\n",
    "\n",
    "# 示例语料（每个句子是单词列表）\n",
    "corpus = [\n",
    "    ['apple', 'banana', 'orange'],\n",
    "    ['banana', 'mango', 'grape'],\n",
    "    ['orange', 'grape', 'apple']\n",
    "]\n",
    "\n",
    "# 训练模型\n",
    "model = Word2Vec(\n",
    "    sentences=corpus,       # 输入语料\n",
    "    vector_size=100,        # 向量维度（dim）\n",
    "    window=5,               # 上下文窗口大小\n",
    "    min_count=1,            # 最小词频（出现次数<1的单词会被忽略）\n",
    "    epochs=10               # 训练轮数\n",
    ")\n",
    "\n",
    "# 获取单词向量\n",
    "apple_vector = model.wv['apple']\n",
    "print(\"'apple'的词向量形状：\", apple_vector.shape)  # (100,)\n",
    "\n",
    "# 计算相似单词\n",
    "similar_words = model.wv.most_similar('apple', topn=2)\n",
    "print(\"相似单词：\", similar_words)\n",
    "# 输出：[('orange', 0.89), ('banana', 0.85)]"
   ]
  }
 ],
 "metadata": {
  "kernelspec": {
   "display_name": "py312",
   "language": "python",
   "name": "python3"
  },
  "language_info": {
   "codemirror_mode": {
    "name": "ipython",
    "version": 3
   },
   "file_extension": ".py",
   "mimetype": "text/x-python",
   "name": "python",
   "nbconvert_exporter": "python",
   "pygments_lexer": "ipython3",
   "version": "3.12.9"
  }
 },
 "nbformat": 4,
 "nbformat_minor": 2
}
