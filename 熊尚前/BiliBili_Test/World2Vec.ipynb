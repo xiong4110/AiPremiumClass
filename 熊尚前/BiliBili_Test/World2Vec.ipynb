{
 "cells": [
  {
   "cell_type": "code",
   "execution_count": 29,
   "metadata": {},
   "outputs": [],
   "source": [
    "import pandas as pd\n",
    "import json\n",
    "import jieba\n",
    "from gensim.models import Word2Vec\n",
    "import gensim \n",
    "import logging\n",
    "\n",
    "logging.basicConfig(format='%(asctime)s : %(levelname)s : %(message)s', level=logging.INFO)"
   ]
  },
  {
   "cell_type": "code",
   "execution_count": 30,
   "metadata": {},
   "outputs": [],
   "source": [
    "# 预处理数据\n",
    "def get_news_data(file_path):\n",
    "    news_data = []\n",
    "    with open(file_path, 'r', encoding='utf-8') as f:\n",
    "        reader = f.readlines()\n",
    "        for line in reader:\n",
    "            line = json.loads(line.strip())\n",
    "            news_data.append(line['sentence'])\n",
    "    return news_data\n",
    "\n",
    "# 读取句子语料\n",
    "train_sentence = get_news_data('news_data/train.json')\n",
    "test_sentence = get_news_data('news_data/test.json')\n",
    "dev_sentence = get_news_data('news_data/dev.json')\n",
    "\n",
    "# 训练时要使用所有预料\n",
    "train_data = train_sentence + test_sentence + dev_sentence\n",
    "\n",
    "# 分词处理\n",
    "train_data = [list(jieba.cut(sentence)) for sentence in train_data]"
   ]
  },
  {
   "cell_type": "code",
   "execution_count": 34,
   "metadata": {},
   "outputs": [
    {
     "name": "stderr",
     "output_type": "stream",
     "text": [
      "2025-06-07 22:16:25,233 : INFO : collecting all words and their counts\n",
      "2025-06-07 22:16:25,233 : INFO : PROGRESS: at sentence #0, processed 0 words, keeping 0 word types\n",
      "2025-06-07 22:16:25,271 : INFO : PROGRESS: at sentence #10000, processed 129141 words, keeping 25698 word types\n",
      "2025-06-07 22:16:25,318 : INFO : PROGRESS: at sentence #20000, processed 258779 words, keeping 39123 word types\n",
      "2025-06-07 22:16:25,356 : INFO : PROGRESS: at sentence #30000, processed 387255 words, keeping 49324 word types\n",
      "2025-06-07 22:16:25,402 : INFO : PROGRESS: at sentence #40000, processed 515598 words, keeping 57864 word types\n",
      "2025-06-07 22:16:25,457 : INFO : PROGRESS: at sentence #50000, processed 644895 words, keeping 65382 word types\n",
      "2025-06-07 22:16:25,505 : INFO : PROGRESS: at sentence #60000, processed 775338 words, keeping 74072 word types\n",
      "2025-06-07 22:16:25,558 : INFO : PROGRESS: at sentence #70000, processed 906119 words, keeping 80406 word types\n",
      "2025-06-07 22:16:25,572 : INFO : collected 82315 word types from a corpus of 949783 raw words and 73360 sentences\n",
      "2025-06-07 22:16:25,572 : INFO : Creating a fresh vocabulary\n",
      "2025-06-07 22:16:25,682 : INFO : Word2Vec lifecycle event {'msg': 'effective_min_count=5 retains 17762 unique words (21.58% of original 82315, drops 64553)', 'datetime': '2025-06-07T22:16:25.682060', 'gensim': '4.3.3', 'python': '3.12.9 | packaged by Anaconda, Inc. | (main, Feb  6 2025, 18:49:16) [MSC v.1929 64 bit (AMD64)]', 'platform': 'Windows-11-10.0.26100-SP0', 'event': 'prepare_vocab'}\n",
      "2025-06-07 22:16:25,684 : INFO : Word2Vec lifecycle event {'msg': 'effective_min_count=5 leaves 849182 word corpus (89.41% of original 949783, drops 100601)', 'datetime': '2025-06-07T22:16:25.684069', 'gensim': '4.3.3', 'python': '3.12.9 | packaged by Anaconda, Inc. | (main, Feb  6 2025, 18:49:16) [MSC v.1929 64 bit (AMD64)]', 'platform': 'Windows-11-10.0.26100-SP0', 'event': 'prepare_vocab'}\n",
      "2025-06-07 22:16:25,798 : INFO : deleting the raw counts dictionary of 82315 items\n",
      "2025-06-07 22:16:25,798 : INFO : sample=0.001 downsamples 31 most-common words\n",
      "2025-06-07 22:16:25,804 : INFO : Word2Vec lifecycle event {'msg': 'downsampling leaves estimated 696671.4801909653 word corpus (82.0%% of prior 849182)', 'datetime': '2025-06-07T22:16:25.804213', 'gensim': '4.3.3', 'python': '3.12.9 | packaged by Anaconda, Inc. | (main, Feb  6 2025, 18:49:16) [MSC v.1929 64 bit (AMD64)]', 'platform': 'Windows-11-10.0.26100-SP0', 'event': 'prepare_vocab'}\n",
      "2025-06-07 22:16:25,985 : INFO : estimated required memory for 17762 words and 100 dimensions: 23090600 bytes\n",
      "2025-06-07 22:16:25,987 : INFO : resetting layer weights\n",
      "2025-06-07 22:16:25,989 : INFO : Word2Vec lifecycle event {'update': False, 'trim_rule': 'None', 'datetime': '2025-06-07T22:16:25.989621', 'gensim': '4.3.3', 'python': '3.12.9 | packaged by Anaconda, Inc. | (main, Feb  6 2025, 18:49:16) [MSC v.1929 64 bit (AMD64)]', 'platform': 'Windows-11-10.0.26100-SP0', 'event': 'build_vocab'}\n",
      "2025-06-07 22:16:25,989 : INFO : Word2Vec lifecycle event {'msg': 'training model with 4 workers on 17762 vocabulary and 100 features, using sg=0 hs=0 sample=0.001 negative=5 window=5 shrink_windows=True', 'datetime': '2025-06-07T22:16:25.989621', 'gensim': '4.3.3', 'python': '3.12.9 | packaged by Anaconda, Inc. | (main, Feb  6 2025, 18:49:16) [MSC v.1929 64 bit (AMD64)]', 'platform': 'Windows-11-10.0.26100-SP0', 'event': 'train'}\n",
      "2025-06-07 22:16:26,568 : INFO : EPOCH 0: training on 949783 raw words (696661 effective words) took 0.6s, 1242221 effective words/s\n",
      "2025-06-07 22:16:27,078 : INFO : EPOCH 1: training on 949783 raw words (696894 effective words) took 0.5s, 1391453 effective words/s\n",
      "2025-06-07 22:16:27,602 : INFO : EPOCH 2: training on 949783 raw words (696640 effective words) took 0.5s, 1354251 effective words/s\n",
      "2025-06-07 22:16:28,094 : INFO : EPOCH 3: training on 949783 raw words (696822 effective words) took 0.5s, 1444779 effective words/s\n",
      "2025-06-07 22:16:28,610 : INFO : EPOCH 4: training on 949783 raw words (697227 effective words) took 0.5s, 1376405 effective words/s\n",
      "2025-06-07 22:16:29,172 : INFO : EPOCH 5: training on 949783 raw words (696843 effective words) took 0.6s, 1261854 effective words/s\n",
      "2025-06-07 22:16:29,700 : INFO : EPOCH 6: training on 949783 raw words (696450 effective words) took 0.5s, 1345169 effective words/s\n",
      "2025-06-07 22:16:30,230 : INFO : EPOCH 7: training on 949783 raw words (696528 effective words) took 0.5s, 1333472 effective words/s\n",
      "2025-06-07 22:16:30,779 : INFO : EPOCH 8: training on 949783 raw words (696287 effective words) took 0.5s, 1298386 effective words/s\n",
      "2025-06-07 22:16:31,312 : INFO : EPOCH 9: training on 949783 raw words (696624 effective words) took 0.5s, 1337351 effective words/s\n",
      "2025-06-07 22:16:31,312 : INFO : Word2Vec lifecycle event {'msg': 'training on 9497830 raw words (6966976 effective words) took 5.3s, 1310764 effective words/s', 'datetime': '2025-06-07T22:16:31.312077', 'gensim': '4.3.3', 'python': '3.12.9 | packaged by Anaconda, Inc. | (main, Feb  6 2025, 18:49:16) [MSC v.1929 64 bit (AMD64)]', 'platform': 'Windows-11-10.0.26100-SP0', 'event': 'train'}\n",
      "2025-06-07 22:16:31,312 : INFO : Word2Vec lifecycle event {'params': 'Word2Vec<vocab=17762, vector_size=100, alpha=0.025>', 'datetime': '2025-06-07T22:16:31.312077', 'gensim': '4.3.3', 'python': '3.12.9 | packaged by Anaconda, Inc. | (main, Feb  6 2025, 18:49:16) [MSC v.1929 64 bit (AMD64)]', 'platform': 'Windows-11-10.0.26100-SP0', 'event': 'created'}\n"
     ]
    }
   ],
   "source": [
    "# word2vec\n",
    "model = Word2Vec(\n",
    "    sentences=train_data,\n",
    "    vector_size=100,\n",
    "    window=5,\n",
    "    min_count=5,\n",
    "    workers=4,\n",
    "    epochs=10\n",
    ")"
   ]
  },
  {
   "cell_type": "code",
   "execution_count": 40,
   "metadata": {},
   "outputs": [
    {
     "data": {
      "text/plain": [
       "[('X5', 0.8972526788711548),\n",
       " ('新款', 0.8935667872428894),\n",
       " ('2.0', 0.8924647569656372),\n",
       " ('丰田', 0.8922513723373413),\n",
       " ('Q3', 0.8889845609664917),\n",
       " ('沃尔沃', 0.8884676694869995),\n",
       " ('福特', 0.8884294629096985),\n",
       " ('电动', 0.8843727707862854),\n",
       " ('荣威', 0.8828108310699463),\n",
       " ('吉利', 0.8812036514282227)]"
      ]
     },
     "execution_count": 40,
     "metadata": {},
     "output_type": "execute_result"
    }
   ],
   "source": [
    "# 查找最近词\n",
    "model.wv.most_similar(\"比亚迪\")"
   ]
  }
 ],
 "metadata": {
  "kernelspec": {
   "display_name": "py312",
   "language": "python",
   "name": "python3"
  },
  "language_info": {
   "codemirror_mode": {
    "name": "ipython",
    "version": 3
   },
   "file_extension": ".py",
   "mimetype": "text/x-python",
   "name": "python",
   "nbconvert_exporter": "python",
   "pygments_lexer": "ipython3",
   "version": "3.12.9"
  }
 },
 "nbformat": 4,
 "nbformat_minor": 2
}
