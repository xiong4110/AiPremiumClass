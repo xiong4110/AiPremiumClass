{
 "cells": [
  {
   "cell_type": "code",
   "execution_count": 1,
   "metadata": {},
   "outputs": [],
   "source": [
    "import pandas as pd\n",
    "import json\n",
    "import jieba"
   ]
  },
  {
   "cell_type": "code",
   "execution_count": 10,
   "metadata": {},
   "outputs": [],
   "source": [
    "# 预处理数据\n",
    "def get_news_data():\n",
    "    news_data = []\n",
    "    with open('news_data/train.json', 'r', encoding='utf-8') as f:\n",
    "        reader = f.readlines()\n",
    "        for line in reader:\n",
    "            line = json.loads(line.strip())\n",
    "            print(line)\n",
    "            print(type(line))\n",
    "            news_data.append()\n",
    "    return news_data"
   ]
  }
 ],
 "metadata": {
  "kernelspec": {
   "display_name": "py312",
   "language": "python",
   "name": "python3"
  },
  "language_info": {
   "codemirror_mode": {
    "name": "ipython",
    "version": 3
   },
   "file_extension": ".py",
   "mimetype": "text/x-python",
   "name": "python",
   "nbconvert_exporter": "python",
   "pygments_lexer": "ipython3",
   "version": "3.12.9"
  }
 },
 "nbformat": 4,
 "nbformat_minor": 2
}
